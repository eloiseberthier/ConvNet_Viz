{
  "nbformat": 4,
  "nbformat_minor": 0,
  "metadata": {
    "colab": {
      "name": "CIFAR_10_Visu.ipynb",
      "version": "0.3.2",
      "provenance": [],
      "collapsed_sections": []
    },
    "kernelspec": {
      "name": "python3",
      "display_name": "Python 3"
    },
    "accelerator": "GPU"
  },
  "cells": [
    {
      "metadata": {
        "id": "IzxCPRfbR3T9",
        "colab_type": "code",
        "outputId": "2d9e43e0-b820-415a-b105-e1946d47acc3",
        "colab": {
          "base_uri": "https://localhost:8080/",
          "height": 119
        }
      },
      "cell_type": "code",
      "source": [
        "! rm -rf ConvNet_Viz/\n",
        "! git clone https://github.com/eloiseberthier/ConvNet_Viz.git"
      ],
      "execution_count": 1,
      "outputs": [
        {
          "output_type": "stream",
          "text": [
            "Cloning into 'ConvNet_Viz'...\n",
            "remote: Enumerating objects: 77, done.\u001b[K\n",
            "remote: Counting objects:   1% (1/77)   \u001b[K\rremote: Counting objects:   2% (2/77)   \u001b[K\rremote: Counting objects:   3% (3/77)   \u001b[K\rremote: Counting objects:   5% (4/77)   \u001b[K\rremote: Counting objects:   6% (5/77)   \u001b[K\rremote: Counting objects:   7% (6/77)   \u001b[K\rremote: Counting objects:   9% (7/77)   \u001b[K\rremote: Counting objects:  10% (8/77)   \u001b[K\rremote: Counting objects:  11% (9/77)   \u001b[K\rremote: Counting objects:  12% (10/77)   \u001b[K\rremote: Counting objects:  14% (11/77)   \u001b[K\rremote: Counting objects:  15% (12/77)   \u001b[K\rremote: Counting objects:  16% (13/77)   \u001b[K\rremote: Counting objects:  18% (14/77)   \u001b[K\rremote: Counting objects:  19% (15/77)   \u001b[K\rremote: Counting objects:  20% (16/77)   \u001b[K\rremote: Counting objects:  22% (17/77)   \u001b[K\rremote: Counting objects:  23% (18/77)   \u001b[K\rremote: Counting objects:  24% (19/77)   \u001b[K\rremote: Counting objects:  25% (20/77)   \u001b[K\rremote: Counting objects:  27% (21/77)   \u001b[K\rremote: Counting objects:  28% (22/77)   \u001b[K\rremote: Counting objects:  29% (23/77)   \u001b[K\rremote: Counting objects:  31% (24/77)   \u001b[K\rremote: Counting objects:  32% (25/77)   \u001b[K\rremote: Counting objects:  33% (26/77)   \u001b[K\rremote: Counting objects:  35% (27/77)   \u001b[K\rremote: Counting objects:  36% (28/77)   \u001b[K\rremote: Counting objects:  37% (29/77)   \u001b[K\rremote: Counting objects:  38% (30/77)   \u001b[K\rremote: Counting objects:  40% (31/77)   \u001b[K\rremote: Counting objects:  41% (32/77)   \u001b[K\rremote: Counting objects:  42% (33/77)   \u001b[K\rremote: Counting objects:  44% (34/77)   \u001b[K\rremote: Counting objects:  45% (35/77)   \u001b[K\rremote: Counting objects:  46% (36/77)   \u001b[K\rremote: Counting objects:  48% (37/77)   \u001b[K\rremote: Counting objects:  49% (38/77)   \u001b[K\rremote: Counting objects:  50% (39/77)   \u001b[K\rremote: Counting objects:  51% (40/77)   \u001b[K\rremote: Counting objects:  53% (41/77)   \u001b[K\rremote: Counting objects:  54% (42/77)   \u001b[K\rremote: Counting objects:  55% (43/77)   \u001b[K\rremote: Counting objects:  57% (44/77)   \u001b[K\rremote: Counting objects:  58% (45/77)   \u001b[K\rremote: Counting objects:  59% (46/77)   \u001b[K\rremote: Counting objects:  61% (47/77)   \u001b[K\rremote: Counting objects:  62% (48/77)   \u001b[K\rremote: Counting objects:  63% (49/77)   \u001b[K\rremote: Counting objects:  64% (50/77)   \u001b[K\rremote: Counting objects:  66% (51/77)   \u001b[K\rremote: Counting objects:  67% (52/77)   \u001b[K\rremote: Counting objects:  68% (53/77)   \u001b[K\rremote: Counting objects:  70% (54/77)   \u001b[K\rremote: Counting objects:  71% (55/77)   \u001b[K\rremote: Counting objects:  72% (56/77)   \u001b[K\rremote: Counting objects:  74% (57/77)   \u001b[K\rremote: Counting objects:  75% (58/77)   \u001b[K\rremote: Counting objects:  76% (59/77)   \u001b[K\rremote: Counting objects:  77% (60/77)   \u001b[K\rremote: Counting objects:  79% (61/77)   \u001b[K\rremote: Counting objects:  80% (62/77)   \u001b[K\rremote: Counting objects:  81% (63/77)   \u001b[K\rremote: Counting objects:  83% (64/77)   \u001b[K\rremote: Counting objects:  84% (65/77)   \u001b[K\rremote: Counting objects:  85% (66/77)   \u001b[K\rremote: Counting objects:  87% (67/77)   \u001b[K\rremote: Counting objects:  88% (68/77)   \u001b[K\rremote: Counting objects:  89% (69/77)   \u001b[K\rremote: Counting objects:  90% (70/77)   \u001b[K\rremote: Counting objects:  92% (71/77)   \u001b[K\rremote: Counting objects:  93% (72/77)   \u001b[K\rremote: Counting objects:  94% (73/77)   \u001b[K\rremote: Counting objects:  96% (74/77)   \u001b[K\rremote: Counting objects:  97% (75/77)   \u001b[K\rremote: Counting objects:  98% (76/77)   \u001b[K\rremote: Counting objects: 100% (77/77)   \u001b[K\rremote: Counting objects: 100% (77/77), done.\u001b[K\n",
            "remote: Compressing objects: 100% (60/60), done.\u001b[K\n",
            "remote: Total 77 (delta 28), reused 59 (delta 16), pack-reused 0\u001b[K\n",
            "Unpacking objects: 100% (77/77), done.\n"
          ],
          "name": "stdout"
        }
      ]
    },
    {
      "metadata": {
        "id": "lPCu8rxeS5wV",
        "colab_type": "code",
        "outputId": "c7b57cbf-6ff8-44bd-964d-6324b6b3daaf",
        "colab": {
          "base_uri": "https://localhost:8080/",
          "height": 34
        }
      },
      "cell_type": "code",
      "source": [
        "! ls"
      ],
      "execution_count": 2,
      "outputs": [
        {
          "output_type": "stream",
          "text": [
            "ConvNet_Viz  gdrive  sample_data\n"
          ],
          "name": "stdout"
        }
      ]
    },
    {
      "metadata": {
        "id": "M74O7wNFR80B",
        "colab_type": "code",
        "colab": {}
      },
      "cell_type": "code",
      "source": [
        "%load_ext autoreload\n",
        "%autoreload 2"
      ],
      "execution_count": 0,
      "outputs": []
    },
    {
      "metadata": {
        "id": "VT7bb4MUR9aq",
        "colab_type": "code",
        "colab": {
          "base_uri": "https://localhost:8080/",
          "height": 34
        },
        "outputId": "961b765b-5459-440e-c186-dc6dd654b53b"
      },
      "cell_type": "code",
      "source": [
        "import sys\n",
        "sys.path.append('ConvNet_Viz')\n",
        "\n",
        "import numpy as np\n",
        "import tensorflow as tf\n",
        "import matplotlib.pyplot as plt\n",
        "from tqdm import tqdm\n",
        "import cv2\n",
        "\n",
        "import keras\n",
        "from keras.applications.vgg16 import VGG16, preprocess_input, decode_predictions\n",
        "from keras.models import Model, Sequential\n",
        "from keras.layers import Input, Conv2D, Flatten, Dense\n",
        "from keras.layers import MaxPooling2D as KMaxPooling2D\n",
        "from keras.layers import Dropout, BatchNormalization\n",
        "from keras.datasets import cifar10, mnist\n",
        "from keras.optimizers import Adam, SGD\n",
        "from keras.utils import np_utils\n",
        "from keras.models import load_model\n",
        " \n",
        "from deconvnet.deconv2D import Deconv2D\n",
        "from deconvnet.pool_unpool import MaxPooling2D, UndoMaxPooling2D\n",
        "from deconvnet.forward_backward import truncated_model, backward_network\n",
        "\n",
        "from hidden_patch import HiddenPatchAnalysis"
      ],
      "execution_count": 4,
      "outputs": [
        {
          "output_type": "stream",
          "text": [
            "Using TensorFlow backend.\n"
          ],
          "name": "stderr"
        }
      ]
    },
    {
      "metadata": {
        "id": "2TmgHVCpSF8x",
        "colab_type": "code",
        "colab": {}
      },
      "cell_type": "code",
      "source": [
        "(x_train, y_train0), (x_test, y_test0) = cifar10.load_data()\n",
        "y_train = np_utils.to_categorical(y_train0)\n",
        "y_test = np_utils.to_categorical(y_test0)"
      ],
      "execution_count": 0,
      "outputs": []
    },
    {
      "metadata": {
        "id": "j5iKsu4bSMsR",
        "colab_type": "code",
        "outputId": "f534c615-b28a-4ece-8399-1443860cfd83",
        "colab": {
          "base_uri": "https://localhost:8080/",
          "height": 54
        }
      },
      "cell_type": "code",
      "source": [
        "# For CIFAR-10 - simple model\n",
        "\"\"\"\n",
        "model = Sequential()\n",
        "model.add(Conv2D(filters=16, kernel_size=5, input_shape=(32, 32, 3), activation=\"relu\"))\n",
        "model.add(Conv2D(filters=16, kernel_size=5, input_shape=(32, 32, 3), activation=\"relu\"))\n",
        "model.add(KMaxPooling2D(pool_size=2, strides=2))\n",
        "model.add(Conv2D(filters=64, kernel_size=3, activation=\"relu\"))\n",
        "model.add(Conv2D(filters=64, kernel_size=3, activation=\"relu\"))\n",
        "model.add(KMaxPooling2D(pool_size=2, strides=2))\n",
        "model.add(Flatten())\n",
        "model.add(Dense(64, activation=\"tanh\"))\n",
        "model.add(Dense(10, activation=\"softmax\"))\n",
        "\n",
        "opt = SGD(lr=0.001)\n",
        "model.compile(loss=\"categorical_crossentropy\", optimizer=opt, metrics=[\"accuracy\"])\n",
        "\"\"\""
      ],
      "execution_count": 159,
      "outputs": [
        {
          "output_type": "execute_result",
          "data": {
            "text/plain": [
              "'\\nmodel = Sequential()\\nmodel.add(Conv2D(filters=16, kernel_size=5, input_shape=(32, 32, 3), activation=\"relu\"))\\nmodel.add(Conv2D(filters=16, kernel_size=5, input_shape=(32, 32, 3), activation=\"relu\"))\\nmodel.add(KMaxPooling2D(pool_size=2, strides=2))\\nmodel.add(Conv2D(filters=64, kernel_size=3, activation=\"relu\"))\\nmodel.add(Conv2D(filters=64, kernel_size=3, activation=\"relu\"))\\nmodel.add(KMaxPooling2D(pool_size=2, strides=2))\\nmodel.add(Flatten())\\nmodel.add(Dense(64, activation=\"tanh\"))\\nmodel.add(Dense(10, activation=\"softmax\"))\\n\\nopt = SGD(lr=0.001)\\nmodel.compile(loss=\"categorical_crossentropy\", optimizer=opt, metrics=[\"accuracy\"])\\n'"
            ]
          },
          "metadata": {
            "tags": []
          },
          "execution_count": 159
        }
      ]
    },
    {
      "metadata": {
        "id": "NRcMO8d-uvyj",
        "colab_type": "code",
        "colab": {}
      },
      "cell_type": "code",
      "source": [
        "#model.summary()"
      ],
      "execution_count": 0,
      "outputs": []
    },
    {
      "metadata": {
        "id": "ReXFBxo3mfVb",
        "colab_type": "code",
        "colab": {}
      },
      "cell_type": "code",
      "source": [
        "# Best model\n",
        "model = Sequential()\n",
        "\n",
        "model.add(Conv2D(32, kernel_size=(3, 3), activation='relu', input_shape=(32, 32, 3), padding = \"same\")) # add padding\n",
        "model.add(Conv2D(64, kernel_size=(3, 3), activation='relu'))\n",
        "model.add(KMaxPooling2D(pool_size=2, strides=2))\n",
        "model.add(BatchNormalization()) # add batchnorm\n",
        "model.add(Dropout(0.25))\n",
        "\n",
        "model.add(Conv2D(256, kernel_size=(3, 3), activation='relu')) # 128\n",
        "model.add(KMaxPooling2D(pool_size=2, strides=2))\n",
        "model.add(Dropout(0.25)) # added new dropout before last layer\n",
        "\n",
        "model.add(Conv2D(64, kernel_size=(3, 3), activation='relu')) # 128\n",
        "model.add(KMaxPooling2D(pool_size=2, strides=2)) # \n",
        "#model.add(BatchNormalization()) # removed second batchnorm \n",
        "model.add(Dropout(0.25))\n",
        "\n",
        "model.add(Flatten())\n",
        "model.add(Dense(1024, activation='relu'))\n",
        "model.add(Dropout(0.5))\n",
        "model.add(Dense(10, activation='softmax'))\n",
        "\n",
        "opt = Adam(lr=0.0001, decay=1e-6) \n",
        "model.compile(loss=\"categorical_crossentropy\", optimizer=opt, metrics=[\"accuracy\"])"
      ],
      "execution_count": 0,
      "outputs": []
    },
    {
      "metadata": {
        "id": "r7pyAH9upo7N",
        "colab_type": "code",
        "outputId": "0229fca5-6ec7-403d-ade6-24cd6ee43ba8",
        "colab": {
          "base_uri": "https://localhost:8080/",
          "height": 646
        }
      },
      "cell_type": "code",
      "source": [
        "model.summary()"
      ],
      "execution_count": 7,
      "outputs": [
        {
          "output_type": "stream",
          "text": [
            "_________________________________________________________________\n",
            "Layer (type)                 Output Shape              Param #   \n",
            "=================================================================\n",
            "conv2d_1 (Conv2D)            (None, 32, 32, 32)        896       \n",
            "_________________________________________________________________\n",
            "conv2d_2 (Conv2D)            (None, 30, 30, 64)        18496     \n",
            "_________________________________________________________________\n",
            "max_pooling2d_1 (MaxPooling2 (None, 15, 15, 64)        0         \n",
            "_________________________________________________________________\n",
            "batch_normalization_1 (Batch (None, 15, 15, 64)        256       \n",
            "_________________________________________________________________\n",
            "dropout_1 (Dropout)          (None, 15, 15, 64)        0         \n",
            "_________________________________________________________________\n",
            "conv2d_3 (Conv2D)            (None, 13, 13, 256)       147712    \n",
            "_________________________________________________________________\n",
            "max_pooling2d_2 (MaxPooling2 (None, 6, 6, 256)         0         \n",
            "_________________________________________________________________\n",
            "dropout_2 (Dropout)          (None, 6, 6, 256)         0         \n",
            "_________________________________________________________________\n",
            "conv2d_4 (Conv2D)            (None, 4, 4, 64)          147520    \n",
            "_________________________________________________________________\n",
            "max_pooling2d_3 (MaxPooling2 (None, 2, 2, 64)          0         \n",
            "_________________________________________________________________\n",
            "dropout_3 (Dropout)          (None, 2, 2, 64)          0         \n",
            "_________________________________________________________________\n",
            "flatten_1 (Flatten)          (None, 256)               0         \n",
            "_________________________________________________________________\n",
            "dense_1 (Dense)              (None, 1024)              263168    \n",
            "_________________________________________________________________\n",
            "dropout_4 (Dropout)          (None, 1024)              0         \n",
            "_________________________________________________________________\n",
            "dense_2 (Dense)              (None, 10)                10250     \n",
            "=================================================================\n",
            "Total params: 588,298\n",
            "Trainable params: 588,170\n",
            "Non-trainable params: 128\n",
            "_________________________________________________________________\n"
          ],
          "name": "stdout"
        }
      ]
    },
    {
      "metadata": {
        "id": "3O_mcVEGSSRt",
        "colab_type": "code",
        "outputId": "9884a7f1-9859-4c8b-dc4e-cb57573447a9",
        "colab": {
          "base_uri": "https://localhost:8080/",
          "height": 731
        }
      },
      "cell_type": "code",
      "source": [
        "model.fit(x_train, y_train, batch_size=64, epochs=20, validation_split=0.1)\n",
        "# 40 epochs: 79.3%\n",
        "# with batch norm: 30 epochs donne environ 80.6% + speed up at training time\n",
        "# with padding: 40 ep -> 80.9% (idem)\n",
        "# with one more droput : 40 ep 81.2 %\n",
        "# changing the nber of deeper filters: 40ep 81.9%"
      ],
      "execution_count": 45,
      "outputs": [
        {
          "output_type": "stream",
          "text": [
            "Train on 50000 samples, validate on 10000 samples\n",
            "Epoch 1/20\n",
            "50000/50000 [==============================] - 23s 461us/step - loss: 0.6754 - acc: 0.7633 - val_loss: 0.6695 - val_acc: 0.7708\n",
            "Epoch 2/20\n",
            "50000/50000 [==============================] - 23s 457us/step - loss: 0.6582 - acc: 0.7682 - val_loss: 0.6367 - val_acc: 0.7845\n",
            "Epoch 3/20\n",
            "50000/50000 [==============================] - 23s 458us/step - loss: 0.6455 - acc: 0.7721 - val_loss: 0.6244 - val_acc: 0.7873\n",
            "Epoch 4/20\n",
            "50000/50000 [==============================] - 23s 455us/step - loss: 0.6282 - acc: 0.7789 - val_loss: 0.6197 - val_acc: 0.7879\n",
            "Epoch 5/20\n",
            "50000/50000 [==============================] - 23s 456us/step - loss: 0.6185 - acc: 0.7824 - val_loss: 0.6318 - val_acc: 0.7853\n",
            "Epoch 6/20\n",
            "50000/50000 [==============================] - 23s 455us/step - loss: 0.6067 - acc: 0.7869 - val_loss: 0.6235 - val_acc: 0.7872\n",
            "Epoch 7/20\n",
            "50000/50000 [==============================] - 23s 458us/step - loss: 0.5949 - acc: 0.7907 - val_loss: 0.5956 - val_acc: 0.7979\n",
            "Epoch 8/20\n",
            "50000/50000 [==============================] - 23s 455us/step - loss: 0.5829 - acc: 0.7958 - val_loss: 0.5959 - val_acc: 0.8001\n",
            "Epoch 9/20\n",
            "50000/50000 [==============================] - 23s 455us/step - loss: 0.5742 - acc: 0.7987 - val_loss: 0.5932 - val_acc: 0.8014\n",
            "Epoch 10/20\n",
            "50000/50000 [==============================] - 23s 455us/step - loss: 0.5692 - acc: 0.8000 - val_loss: 0.5858 - val_acc: 0.8033\n",
            "Epoch 11/20\n",
            "50000/50000 [==============================] - 23s 455us/step - loss: 0.5525 - acc: 0.8045 - val_loss: 0.5970 - val_acc: 0.7913\n",
            "Epoch 12/20\n",
            "50000/50000 [==============================] - 23s 459us/step - loss: 0.5419 - acc: 0.8090 - val_loss: 0.5838 - val_acc: 0.8034\n",
            "Epoch 13/20\n",
            "50000/50000 [==============================] - 23s 459us/step - loss: 0.5391 - acc: 0.8102 - val_loss: 0.5718 - val_acc: 0.8058\n",
            "Epoch 14/20\n",
            "50000/50000 [==============================] - 23s 458us/step - loss: 0.5276 - acc: 0.8151 - val_loss: 0.5666 - val_acc: 0.8108\n",
            "Epoch 15/20\n",
            "50000/50000 [==============================] - 23s 456us/step - loss: 0.5207 - acc: 0.8164 - val_loss: 0.5647 - val_acc: 0.8077\n",
            "Epoch 16/20\n",
            "50000/50000 [==============================] - 23s 455us/step - loss: 0.5118 - acc: 0.8205 - val_loss: 0.5506 - val_acc: 0.8113\n",
            "Epoch 17/20\n",
            "50000/50000 [==============================] - 23s 455us/step - loss: 0.5009 - acc: 0.8233 - val_loss: 0.5553 - val_acc: 0.8133\n",
            "Epoch 18/20\n",
            "50000/50000 [==============================] - 23s 454us/step - loss: 0.4873 - acc: 0.8269 - val_loss: 0.5499 - val_acc: 0.8157\n",
            "Epoch 19/20\n",
            "50000/50000 [==============================] - 23s 454us/step - loss: 0.4873 - acc: 0.8294 - val_loss: 0.5428 - val_acc: 0.8184\n",
            "Epoch 20/20\n",
            "50000/50000 [==============================] - 23s 454us/step - loss: 0.4816 - acc: 0.8298 - val_loss: 0.5542 - val_acc: 0.8109\n"
          ],
          "name": "stdout"
        },
        {
          "output_type": "execute_result",
          "data": {
            "text/plain": [
              "<keras.callbacks.History at 0x7f1e5f602b00>"
            ]
          },
          "metadata": {
            "tags": []
          },
          "execution_count": 45
        }
      ]
    },
    {
      "metadata": {
        "id": "QI58am2KVV4j",
        "colab_type": "code",
        "outputId": "1d06b68e-97bf-4507-a3c0-9fa7ac4083df",
        "colab": {
          "base_uri": "https://localhost:8080/",
          "height": 122
        }
      },
      "cell_type": "code",
      "source": [
        "from google.colab import drive\n",
        "drive.mount('/content/gdrive')\n",
        "#model.save('/content/gdrive/My Drive/final_filt_dpout_padded_batchnorm_deeper_model.h5')"
      ],
      "execution_count": 0,
      "outputs": [
        {
          "output_type": "stream",
          "text": [
            "Go to this URL in a browser: https://accounts.google.com/o/oauth2/auth?client_id=947318989803-6bn6qk8qdgf4n4g3pfee6491hc0brc4i.apps.googleusercontent.com&redirect_uri=urn%3Aietf%3Awg%3Aoauth%3A2.0%3Aoob&scope=email%20https%3A%2F%2Fwww.googleapis.com%2Fauth%2Fdocs.test%20https%3A%2F%2Fwww.googleapis.com%2Fauth%2Fdrive%20https%3A%2F%2Fwww.googleapis.com%2Fauth%2Fdrive.photos.readonly%20https%3A%2F%2Fwww.googleapis.com%2Fauth%2Fpeopleapi.readonly&response_type=code\n",
            "\n",
            "Enter your authorization code:\n",
            "··········\n",
            "Mounted at /content/gdrive\n"
          ],
          "name": "stdout"
        }
      ]
    },
    {
      "metadata": {
        "id": "3C1GqI8EThx6",
        "colab_type": "code",
        "outputId": "8962c31f-572f-4454-d09d-4a5a6e1f9500",
        "colab": {
          "base_uri": "https://localhost:8080/",
          "height": 34
        }
      },
      "cell_type": "code",
      "source": [
        "from google.colab import drive\n",
        "drive.mount('/content/gdrive')\n",
        "model = load_model('/content/gdrive/My Drive/padded_batchnorm_deeper_model.h5')"
      ],
      "execution_count": 145,
      "outputs": [
        {
          "output_type": "stream",
          "text": [
            "Drive already mounted at /content/gdrive; to attempt to forcibly remount, call drive.mount(\"/content/gdrive\", force_remount=True).\n"
          ],
          "name": "stdout"
        }
      ]
    },
    {
      "metadata": {
        "id": "dVbaArT5gaqb",
        "colab_type": "code",
        "outputId": "d4b08643-213a-4822-b969-cede38de5dab",
        "colab": {
          "base_uri": "https://localhost:8080/",
          "height": 646
        }
      },
      "cell_type": "code",
      "source": [
        "model.summary()"
      ],
      "execution_count": 54,
      "outputs": [
        {
          "output_type": "stream",
          "text": [
            "_________________________________________________________________\n",
            "Layer (type)                 Output Shape              Param #   \n",
            "=================================================================\n",
            "conv2d_1 (Conv2D)            (None, 32, 32, 32)        896       \n",
            "_________________________________________________________________\n",
            "conv2d_2 (Conv2D)            (None, 30, 30, 64)        18496     \n",
            "_________________________________________________________________\n",
            "max_pooling2d_1 (MaxPooling2 (None, 15, 15, 64)        0         \n",
            "_________________________________________________________________\n",
            "batch_normalization_1 (Batch (None, 15, 15, 64)        256       \n",
            "_________________________________________________________________\n",
            "dropout_1 (Dropout)          (None, 15, 15, 64)        0         \n",
            "_________________________________________________________________\n",
            "conv2d_3 (Conv2D)            (None, 13, 13, 256)       147712    \n",
            "_________________________________________________________________\n",
            "max_pooling2d_2 (MaxPooling2 (None, 6, 6, 256)         0         \n",
            "_________________________________________________________________\n",
            "dropout_2 (Dropout)          (None, 6, 6, 256)         0         \n",
            "_________________________________________________________________\n",
            "conv2d_4 (Conv2D)            (None, 4, 4, 64)          147520    \n",
            "_________________________________________________________________\n",
            "max_pooling2d_3 (MaxPooling2 (None, 2, 2, 64)          0         \n",
            "_________________________________________________________________\n",
            "dropout_3 (Dropout)          (None, 2, 2, 64)          0         \n",
            "_________________________________________________________________\n",
            "flatten_1 (Flatten)          (None, 256)               0         \n",
            "_________________________________________________________________\n",
            "dense_1 (Dense)              (None, 1024)              263168    \n",
            "_________________________________________________________________\n",
            "dropout_4 (Dropout)          (None, 1024)              0         \n",
            "_________________________________________________________________\n",
            "dense_2 (Dense)              (None, 10)                10250     \n",
            "=================================================================\n",
            "Total params: 588,298\n",
            "Trainable params: 588,170\n",
            "Non-trainable params: 128\n",
            "_________________________________________________________________\n"
          ],
          "name": "stdout"
        }
      ]
    },
    {
      "metadata": {
        "id": "PgjGbgBjyAcE",
        "colab_type": "code",
        "colab": {}
      },
      "cell_type": "code",
      "source": [
        "#model.evaluate(x_test, y_test)"
      ],
      "execution_count": 0,
      "outputs": []
    },
    {
      "metadata": {
        "id": "Fxz4CSlrh9me",
        "colab_type": "text"
      },
      "cell_type": "markdown",
      "source": [
        "# Visualization"
      ]
    },
    {
      "metadata": {
        "id": "XvCiKZd_UL-C",
        "colab_type": "code",
        "colab": {}
      },
      "cell_type": "code",
      "source": [
        "def normalize(img):\n",
        "    res = img.copy()\n",
        "    M = img.max()\n",
        "    m = -img.min()\n",
        "    if m < M:\n",
        "        idx = np.unravel_index(img.argmin(), img.shape)\n",
        "        res[idx] = -img.max()\n",
        "    else:\n",
        "        idx = np.unravel_index(img.argmax(), img.shape)\n",
        "        res[idx] = -img.min()\n",
        "    return (255*(res-res.min())/(res.max()-res.min())).astype(np.uint8)"
      ],
      "execution_count": 0,
      "outputs": []
    },
    {
      "metadata": {
        "id": "nGeHE4awkude",
        "colab_type": "code",
        "outputId": "88706e63-be50-46b0-bc7c-31eba743108c",
        "colab": {
          "base_uri": "https://localhost:8080/",
          "height": 364
        }
      },
      "cell_type": "code",
      "source": [
        "idx = 198# 198 chien bon # 551 cheval correct # 255 voiture -> assez parlante\n",
        "plt.imshow(x_train[idx])\n",
        "plt.axis(\"off\")"
      ],
      "execution_count": 10,
      "outputs": [
        {
          "output_type": "execute_result",
          "data": {
            "text/plain": [
              "(-0.5, 31.5, 31.5, -0.5)"
            ]
          },
          "metadata": {
            "tags": []
          },
          "execution_count": 10
        },
        {
          "output_type": "display_data",
          "data": {
            "image/png": "[encoded data removed]",
            "text/plain": [
              "<matplotlib.figure.Figure at 0x7f1e727afb70>"
            ]
          },
          "metadata": {
            "tags": []
          }
        }
      ]
    },
    {
      "metadata": {
        "id": "GFRtHvm9izGo",
        "colab_type": "code",
        "outputId": "f48c31f6-b720-4aeb-9539-ef1e593bde1c",
        "colab": {
          "base_uri": "https://localhost:8080/",
          "height": 320
        }
      },
      "cell_type": "code",
      "source": [
        "trunc_net = truncated_model(model, \"conv2d_1\")\n",
        "backward_net = backward_network(trunc_net)\n",
        "\n",
        "fwd_out = trunc_net.predict(x_train[[idx]])\n",
        "_, _, filters = fwd_out[0].shape\n",
        "f0 = fwd_out[0]\n",
        "maxf = fwd_out[0][:,:,].max(axis=(0, 1)).argsort()[:-5:-1]\n",
        "plt.figure(figsize=(5,5))\n",
        "\n",
        "f = f0.copy()\n",
        "fwd_out[0] = f\n",
        "fwd_out[0][ :, :, np.arange(filters) != 31] = 0\n",
        "backward_output = backward_net.predict(fwd_out)\n",
        "img = normalize(backward_output[0])\n",
        "plt.axis(\"off\")\n",
        "plt.imshow(img[:,:], cmap=\"gray\")\n",
        "plt.show()"
      ],
      "execution_count": 53,
      "outputs": [
        {
          "output_type": "display_data",
          "data": {
            "image/png": "[encoded data removed]",
            "text/plain": [
              "<matplotlib.figure.Figure at 0x7f1e5d2d3940>"
            ]
          },
          "metadata": {
            "tags": []
          }
        }
      ]
    },
    {
      "metadata": {
        "id": "vzWHICpsi3tZ",
        "colab_type": "code",
        "outputId": "e91b0c73-3996-44a7-aef5-a3cc48a193f9",
        "colab": {
          "base_uri": "https://localhost:8080/",
          "height": 320
        }
      },
      "cell_type": "code",
      "source": [
        "trunc_net = truncated_model(model, \"conv2d_2\")\n",
        "backward_net = backward_network(trunc_net)\n",
        "\n",
        "fwd_out = trunc_net.predict(x_train[[idx]])\n",
        "_, _, filters = fwd_out[0].shape\n",
        "f0 = fwd_out[0]\n",
        "maxf = fwd_out[0][:,:,].max(axis=(0,1)).argsort()[:-5:-1]\n",
        "\n",
        "plt.figure(figsize=(5,5))\n",
        "f = f0.copy()\n",
        "fwd_out[0] = f\n",
        "fwd_out[0][ :, :, np.arange(filters) != 55] = 0\n",
        "backward_output = backward_net.predict(fwd_out)\n",
        "img = normalize(backward_output[0])\n",
        "plt.axis(\"off\")\n",
        "plt.imshow(img[:,:], cmap=\"gray\")\n",
        "plt.show()"
      ],
      "execution_count": 52,
      "outputs": [
        {
          "output_type": "display_data",
          "data": {
            "image/png": "[encoded data removed]",
            "text/plain": [
              "<matplotlib.figure.Figure at 0x7f1e5d39f588>"
            ]
          },
          "metadata": {
            "tags": []
          }
        }
      ]
    },
    {
      "metadata": {
        "id": "LdgjUNqXkodG",
        "colab_type": "code",
        "outputId": "32f18196-ea3a-46ff-c308-563ca65d87bd",
        "colab": {
          "base_uri": "https://localhost:8080/",
          "height": 320
        }
      },
      "cell_type": "code",
      "source": [
        "trunc_net = truncated_model(model, \"conv2d_3\") # very blue\n",
        "backward_net = backward_network(trunc_net)\n",
        "\n",
        "fwd_out = trunc_net.predict(x_train[[idx]])\n",
        "_, _, _, filters = fwd_out[0].shape\n",
        "f0 = fwd_out[0]\n",
        "maxf = fwd_out[0][0,:,:,].max(axis=(0,1)).argsort()[:-5:-1]\n",
        "\n",
        "plt.figure(figsize=(5,5))\n",
        "f = f0.copy()\n",
        "fwd_out[0] = f\n",
        "fwd_out[0][:, :, :, np.arange(filters) != 227] = 0\n",
        "backward_output = backward_net.predict(fwd_out)\n",
        "img = normalize(backward_output[0])\n",
        "plt.axis(\"off\")\n",
        "plt.imshow(img[:,:], cmap=\"gray\")\n",
        "plt.show()"
      ],
      "execution_count": 51,
      "outputs": [
        {
          "output_type": "display_data",
          "data": {
            "image/png": "[encoded data removed]",
            "text/plain": [
              "<matplotlib.figure.Figure at 0x7f1e5d4836a0>"
            ]
          },
          "metadata": {
            "tags": []
          }
        }
      ]
    },
    {
      "metadata": {
        "colab_type": "code",
        "id": "PBuSOPyG_dI9",
        "outputId": "38808024-9b3e-4839-eb01-d5ed6318f7fa",
        "colab": {
          "base_uri": "https://localhost:8080/",
          "height": 347
        }
      },
      "cell_type": "code",
      "source": [
        "trunc_net = truncated_model(model, \"conv2d_4\")\n",
        "backward_net = backward_network(trunc_net)\n",
        "\n",
        "fwd_out = trunc_net.predict(x_train[[idx]])\n",
        "_, _, _, filters = fwd_out[0].shape\n",
        "f0 = fwd_out[0]\n",
        "maxf = fwd_out[0][0,:,:,].max(axis=(0,1)).argsort()[:-5:-1]\n",
        "\n",
        "f = f0.copy()\n",
        "fwd_out[0] = f\n",
        "fwd_out[0][:, :, :, np.arange(filters) != 54] = 0\n",
        "backward_output = backward_net.predict(fwd_out)\n",
        "img = img = normalize(backward_output[0])\n",
        "plt.axis(\"off\")\n",
        "plt.imshow(img[:,:], cmap=\"gray\")\n",
        "plt.show()"
      ],
      "execution_count": 50,
      "outputs": [
        {
          "output_type": "display_data",
          "data": {
            "image/png": "[encoded data removed]",
            "text/plain": [
              "<matplotlib.figure.Figure at 0x7f1e5d67d6d8>"
            ]
          },
          "metadata": {
            "tags": []
          }
        }
      ]
    },
    {
      "metadata": {
        "id": "H07daxBnOB4U",
        "colab_type": "text"
      },
      "cell_type": "markdown",
      "source": [
        "# Hiding patches"
      ]
    },
    {
      "metadata": {
        "id": "yQk7NOAjRjK7",
        "colab_type": "code",
        "colab": {}
      },
      "cell_type": "code",
      "source": [
        "Labels = {0 : 'airplane',\n",
        "1 : 'automobile',\n",
        "2 : 'bird',\n",
        "3 : 'cat',\n",
        "4 : 'deer',\n",
        "5 : 'dog',\n",
        "6 : 'frog',\n",
        "7 : 'horse',\n",
        "8 : 'ship',\n",
        "9 : 'truck'}"
      ],
      "execution_count": 0,
      "outputs": []
    },
    {
      "metadata": {
        "id": "MwbEg5J7VWki",
        "colab_type": "code",
        "outputId": "917de6d7-2fcf-4124-dfbe-62f51c6c4337",
        "colab": {
          "base_uri": "https://localhost:8080/",
          "height": 68
        }
      },
      "cell_type": "code",
      "source": [
        "res = model.predict(x_train[[idx]])\n",
        "print(res)"
      ],
      "execution_count": 0,
      "outputs": [
        {
          "output_type": "stream",
          "text": [
            "[[1.96024666e-06 1.02888844e-04 1.37980783e-03 2.26293057e-02\n",
            "  6.57921119e-05 9.72554147e-01 1.32422952e-04 2.79369392e-03\n",
            "  2.16627086e-07 3.39831080e-04]]\n"
          ],
          "name": "stdout"
        }
      ]
    },
    {
      "metadata": {
        "id": "kcpww20JUwvf",
        "colab_type": "code",
        "colab": {}
      },
      "cell_type": "code",
      "source": [
        "def decode(res):\n",
        "    #[(u'n02504013', u'Indian_elephant', 0.82658225), (u'n01871265', u'tu\n",
        "    l = []\n",
        "    for i in range(len(res)):\n",
        "        #ordr = np.argsort(-res[i]) # args\n",
        "        #myres = -1.*np.sort(-res[i])\n",
        "        loc = [(str(j), Labels[j], res[i][j]) for j in range(10)]\n",
        "                \n",
        "        l.append(sorted(loc, key=lambda x: x[2], reverse=True))\n",
        "    return l"
      ],
      "execution_count": 0,
      "outputs": []
    },
    {
      "metadata": {
        "id": "PBn7chywW2OU",
        "colab_type": "code",
        "outputId": "60e68c4f-639e-412d-c5b9-ad49f9ff24de",
        "colab": {
          "base_uri": "https://localhost:8080/",
          "height": 187
        }
      },
      "cell_type": "code",
      "source": [
        "decode(res)"
      ],
      "execution_count": 0,
      "outputs": [
        {
          "output_type": "execute_result",
          "data": {
            "text/plain": [
              "[[('5', 'dog', 0.97255415),\n",
              "  ('3', 'cat', 0.022629306),\n",
              "  ('7', 'horse', 0.002793694),\n",
              "  ('2', 'bird', 0.0013798078),\n",
              "  ('9', 'truck', 0.00033983108),\n",
              "  ('6', 'frog', 0.00013242295),\n",
              "  ('1', 'automobile', 0.000102888844),\n",
              "  ('4', 'deer', 6.579211e-05),\n",
              "  ('0', 'airplane', 1.9602467e-06),\n",
              "  ('8', 'ship', 2.1662709e-07)]]"
            ]
          },
          "metadata": {
            "tags": []
          },
          "execution_count": 359
        }
      ]
    },
    {
      "metadata": {
        "id": "kww7ZA025NZK",
        "colab_type": "code",
        "colab": {}
      },
      "cell_type": "code",
      "source": [
        "import tensorflow as tf\n",
        "import numpy as np\n",
        "import matplotlib.pyplot as plt\n",
        "import os, sys\n",
        "from os import listdir\n",
        "import keras\n",
        "from keras.applications.vgg16 import VGG16, preprocess_input\n",
        "import cv2\n",
        "import tqdm\n",
        "import time\n",
        "\n",
        "class HiddenPatchAnalysis:\n",
        "    \n",
        "    def __init__(self, img_path, IMG_SIZE, STRIDE, PATCH_SIZE, model):\n",
        "        self.IMG_SIZE = IMG_SIZE\n",
        "        self.STRIDE = STRIDE\n",
        "        self.PATCH_SIZE = PATCH_SIZE\n",
        "        self.original = cv2.cvtColor(cv2.resize(cv2.imread(img_path), (self.IMG_SIZE, self.IMG_SIZE)),\n",
        "                                     cv2.COLOR_RGB2BGR)\n",
        "        self.model = model\n",
        "        self.mask = None\n",
        "        self.labels = None\n",
        "        self.colors = None\n",
        "        self.res_dict = None\n",
        "        self.id = str(time.time())\n",
        "        \n",
        "    def hide_patch(self, patch_color = [150, 150, 150], patch_position = None):\n",
        "        assert self.PATCH_SIZE%2==1, 'patch_size must be an odd number'\n",
        "        hidden = self.original.copy()\n",
        "        if patch_position is None:\n",
        "            px = np.random.choice(self.IMG_SIZE)\n",
        "            py = np.random.choice(self.IMG_SIZE)\n",
        "        else:\n",
        "            px = patch_position[0]\n",
        "            py = patch_position[1]\n",
        "        for i in range(px - self.PATCH_SIZE//2, px + self.PATCH_SIZE//2 + 1):\n",
        "            for j in range(py - self.PATCH_SIZE//2, py + self.PATCH_SIZE//2 + 1):\n",
        "                if i>=0 and i<self.IMG_SIZE and j>=0 and j<self.IMG_SIZE:\n",
        "                    hidden[i, j] = patch_color\n",
        "        return hidden, [px, py]\n",
        "\n",
        "    def generate_hidden_images(self):\n",
        "        hidden_images = {}\n",
        "        for x in tqdm.tqdm(range(0, self.IMG_SIZE, self.STRIDE)):\n",
        "            for y in range(0, self.IMG_SIZE, self.STRIDE):\n",
        "                hidden, _ = self.hide_patch([150, 150, 150], patch_position = [x, y])\n",
        "                hidden_images[(x, y)] = hidden\n",
        "        return hidden_images\n",
        "    \n",
        "    def make_predictions(self, hidden_images):\n",
        "        n = len(hidden_images)\n",
        "        flatten = []\n",
        "        for k in hidden_images.keys():\n",
        "            flatten.append(hidden_images[k])\n",
        "        flatten.append(self.original) # the last one is the original one\n",
        "        flatten = np.array(flatten)\n",
        "        to_recognize = tf.convert_to_tensor(flatten)\n",
        "        res_hidden = self.model.predict(to_recognize, steps = n, verbose = 1)\n",
        "        preds = decode(res_hidden)\n",
        "        return preds\n",
        "    \n",
        "    def compute_plot_from_predictions(self):\n",
        "        print('Generating hidden images')\n",
        "        hidden_images = self.generate_hidden_images()\n",
        "        print('Feeding the model')\n",
        "        preds = self.make_predictions(hidden_images)\n",
        "        print('Results collected')\n",
        "        self.res_dict = {}\n",
        "        k = 0\n",
        "        for i in range(0, self.IMG_SIZE, self.STRIDE):\n",
        "            for j in range(0, self.IMG_SIZE, self.STRIDE):\n",
        "                self.res_dict[(i, j)] = preds[k]\n",
        "                k+=1\n",
        "        self.res_dict[(-1, -1)] = preds[-1]\n",
        "        self.labels = []\n",
        "        for i in self.res_dict.keys():\n",
        "            if self.res_dict[i][0][1] not in self.labels:\n",
        "                self.labels.append(self.res_dict[i][0][1])\n",
        "        self.colors = 255 * np.random.rand(len(self.labels), 3)\n",
        "        self.mask = self.original * 0\n",
        "        for px in range(0, self.IMG_SIZE, self.STRIDE):\n",
        "            for py in range(0, self.IMG_SIZE, self.STRIDE):\n",
        "                c = self.colors[self.labels.index( self.res_dict[(px, py)][0][1],0)]\n",
        "                for i in range(px - self.PATCH_SIZE//2, px + self.PATCH_SIZE//2 + 1):\n",
        "                    for j in range(py - self.PATCH_SIZE//2, py + self.PATCH_SIZE//2 + 1):\n",
        "                        if i>=0 and i<self.IMG_SIZE and j>=0 and j<self.IMG_SIZE:\n",
        "                            self.mask[i, j] = c\n",
        "                            \n",
        "    def plot_mask(self, save = False):\n",
        "        plt.figure(figsize = (15, 10), frameon=False)\n",
        "        plt.subplot(221)\n",
        "        plt.axis(\"off\")\n",
        "        plt.imshow(self.original)\n",
        "        plt.subplot(222)\n",
        "        plt.imshow(self.mask)\n",
        "        plt.axis('off')\n",
        "        plt.savefig(self.id+'_mask.png')\n",
        "        \n",
        "    def plot_class(self, some_class, save=False):\n",
        "        hm = np.zeros((self.IMG_SIZE, self.IMG_SIZE))\n",
        "        for px in range(0, self.IMG_SIZE, self.STRIDE):\n",
        "            for py in range(0, self.IMG_SIZE, self.STRIDE):\n",
        "                scores = self.res_dict[(px, py)]\n",
        "                for k in range(len(scores)):\n",
        "                    if scores[k][1] == some_class:\n",
        "                        for i in range(px - self.PATCH_SIZE//2, px + self.PATCH_SIZE//2 + 1):\n",
        "                            for j in range(py - self.PATCH_SIZE//2, py + self.PATCH_SIZE//2 + 1):\n",
        "                                if i>=0 and i<self.IMG_SIZE and j>=0 and j<self.IMG_SIZE:\n",
        "                                    hm[i, j] = scores[k][2]\n",
        "        plt.figure(figsize = (15, 10), frameon=False)\n",
        "        \n",
        "        plt.subplot(221)\n",
        "        plt.axis(\"off\")\n",
        "        plt.imshow(self.original)\n",
        "        plt.subplot(222)\n",
        "        h = plt.imshow(hm, cmap = plt.cm.YlOrRd_r)\n",
        "        plt.colorbar(h)\n",
        "        plt.axis('off')\n",
        "        plt.savefig(self.id+'_class.png')\n",
        "        \n",
        "    def plot_legend(self):\n",
        "        for i in range(len(self.labels)):\n",
        "            plt.figure(figsize = (3, 3), frameon=False)\n",
        "            plt.axis(\"off\")\n",
        "            blank_image = np.zeros((1, 2, 3), np.uint8)\n",
        "            for x in range(1):\n",
        "                for y in range(2):\n",
        "                    blank_image[x, y, :] = self.colors[i]\n",
        "            plt.imshow(blank_image)\n",
        "            plt.title(self.labels[i], fontsize=20)"
      ],
      "execution_count": 0,
      "outputs": []
    },
    {
      "metadata": {
        "id": "y1EOYoMiYG_S",
        "colab_type": "code",
        "colab": {}
      },
      "cell_type": "code",
      "source": [
        "import seaborn as sns\n",
        "sns.set()\n",
        "sns.set_style(\"whitegrid\", {'axes.grid' : False, 'axes.xtick': False})"
      ],
      "execution_count": 0,
      "outputs": []
    },
    {
      "metadata": {
        "id": "8buwQBe7Qmpw",
        "colab_type": "code",
        "outputId": "61c80f44-eca4-4252-dfad-61f084ed55a5",
        "colab": {
          "base_uri": "https://localhost:8080/",
          "height": 34
        }
      },
      "cell_type": "code",
      "source": [
        "idx = 380 # 55\n",
        "cv2.imwrite('img.png', x_train[[idx]][0])"
      ],
      "execution_count": 0,
      "outputs": [
        {
          "output_type": "execute_result",
          "data": {
            "text/plain": [
              "True"
            ]
          },
          "metadata": {
            "tags": []
          },
          "execution_count": 525
        }
      ]
    },
    {
      "metadata": {
        "id": "8jXZGRWsZjYH",
        "colab_type": "code",
        "outputId": "8b204eda-7f64-457b-8e5f-8938e94235e6",
        "colab": {
          "base_uri": "https://localhost:8080/",
          "height": 364
        }
      },
      "cell_type": "code",
      "source": [
        "plt.imshow(x_train[[idx]][0])"
      ],
      "execution_count": 0,
      "outputs": [
        {
          "output_type": "execute_result",
          "data": {
            "text/plain": [
              "<matplotlib.image.AxesImage at 0x7f9569e631d0>"
            ]
          },
          "metadata": {
            "tags": []
          },
          "execution_count": 526
        },
        {
          "output_type": "display_data",
          "data": {
            "image/png": "[encoded data removed]",
            "text/plain": [
              "<matplotlib.figure.Figure at 0x7f9567e99208>"
            ]
          },
          "metadata": {
            "tags": []
          }
        }
      ]
    },
    {
      "metadata": {
        "id": "pb96RrjfOe-g",
        "colab_type": "code",
        "colab": {}
      },
      "cell_type": "code",
      "source": [
        "HPA = HiddenPatchAnalysis('img.png', 32, 3, 7, model)"
      ],
      "execution_count": 0,
      "outputs": []
    },
    {
      "metadata": {
        "id": "ubEDNuniOtYw",
        "colab_type": "code",
        "outputId": "02a3d284-1ca7-4447-8644-4929dc26626b",
        "colab": {
          "base_uri": "https://localhost:8080/",
          "height": 102
        }
      },
      "cell_type": "code",
      "source": [
        "HPA.compute_plot_from_predictions()"
      ],
      "execution_count": 0,
      "outputs": [
        {
          "output_type": "stream",
          "text": [
            "100%|██████████| 11/11 [00:00<00:00, 714.84it/s]"
          ],
          "name": "stderr"
        },
        {
          "output_type": "stream",
          "text": [
            "Generating hidden images\n",
            "Feeding the model\n"
          ],
          "name": "stdout"
        },
        {
          "output_type": "stream",
          "text": [
            "\n"
          ],
          "name": "stderr"
        },
        {
          "output_type": "stream",
          "text": [
            "121/121 [==============================] - 6s 47ms/step\n",
            "Results collected\n"
          ],
          "name": "stdout"
        }
      ]
    },
    {
      "metadata": {
        "id": "_dQ9NLD7O5X0",
        "colab_type": "code",
        "outputId": "496b8a76-8e8c-4f08-9b0d-145280a70e3d",
        "colab": {
          "base_uri": "https://localhost:8080/",
          "height": 295
        }
      },
      "cell_type": "code",
      "source": [
        "HPA.plot_mask()"
      ],
      "execution_count": 0,
      "outputs": [
        {
          "output_type": "display_data",
          "data": {
            "image/png": "[encoded data removed]",
            "text/plain": [
              "<matplotlib.figure.Figure at 0x7f9568aab588>"
            ]
          },
          "metadata": {
            "tags": []
          }
        }
      ]
    },
    {
      "metadata": {
        "id": "2nalJbV3T1i-",
        "colab_type": "code",
        "outputId": "5d271b82-b94b-4b8d-a1cc-c7e2488fef1c",
        "colab": {
          "base_uri": "https://localhost:8080/",
          "height": 697
        }
      },
      "cell_type": "code",
      "source": [
        "HPA.plot_legend()"
      ],
      "execution_count": 0,
      "outputs": [
        {
          "output_type": "display_data",
          "data": {
            "image/png": "[encoded data removed]",
            "text/plain": [
              "<matplotlib.figure.Figure at 0x7f956a321e10>"
            ]
          },
          "metadata": {
            "tags": []
          }
        },
        {
          "output_type": "display_data",
          "data": {
            "image/png": "[encoded data removed]",
            "text/plain": [
              "<matplotlib.figure.Figure at 0x7f956a7d0208>"
            ]
          },
          "metadata": {
            "tags": []
          }
        },
        {
          "output_type": "display_data",
          "data": {
            "image/png": "[encoded data removed]",
            "text/plain": [
              "<matplotlib.figure.Figure at 0x7f956a78ff60>"
            ]
          },
          "metadata": {
            "tags": []
          }
        },
        {
          "output_type": "display_data",
          "data": {
            "image/png": "[encoded data removed]",
            "text/plain": [
              "<matplotlib.figure.Figure at 0x7f956a7d9438>"
            ]
          },
          "metadata": {
            "tags": []
          }
        },
        {
          "output_type": "display_data",
          "data": {
            "image/png": "[encoded data removed]",
            "text/plain": [
              "<matplotlib.figure.Figure at 0x7f956a970198>"
            ]
          },
          "metadata": {
            "tags": []
          }
        }
      ]
    },
    {
      "metadata": {
        "id": "5ztrNT_yT4Yz",
        "colab_type": "code",
        "outputId": "183f8173-4a6e-458e-b115-dfa6108b5612",
        "colab": {
          "base_uri": "https://localhost:8080/",
          "height": 299
        }
      },
      "cell_type": "code",
      "source": [
        "HPA.plot_class('dog')"
      ],
      "execution_count": 0,
      "outputs": [
        {
          "output_type": "display_data",
          "data": {
            "image/png": "[encoded data removed]",
            "text/plain": [
              "<matplotlib.figure.Figure at 0x7f956a1f79b0>"
            ]
          },
          "metadata": {
            "tags": []
          }
        }
      ]
    }
  ]
}
