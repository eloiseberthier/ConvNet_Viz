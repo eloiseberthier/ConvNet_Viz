{
 "cells": [
  {
   "cell_type": "code",
   "execution_count": 1,
   "metadata": {},
   "outputs": [],
   "source": [
    "%load_ext autoreload\n",
    "%autoreload 2"
   ]
  },
  {
   "cell_type": "code",
   "execution_count": 4,
   "metadata": {},
   "outputs": [
    {
     "name": "stderr",
     "output_type": "stream",
     "text": [
      "Using TensorFlow backend.\n"
     ]
    }
   ],
   "source": [
    "import numpy as np\n",
    "import tensorflow as tf\n",
    "import matplotlib.pyplot as plt\n",
    "from tqdm import tqdm\n",
    "\n",
    "import keras\n",
    "from keras.applications.vgg16 import VGG16, preprocess_input, decode_predictions\n",
    "from keras.models import Model, Sequential\n",
    "from keras.layers import Input, Conv2D, Flatten, Dense\n",
    "from keras.layers import MaxPooling2D as KMaxPooling2D\n",
    "from keras.datasets import cifar10, mnist\n",
    "from keras.optimizers import Adam, SGD\n",
    "from keras.utils import np_utils\n",
    " \n",
    "from deconvnet.deconv2D import Deconv2D\n",
    "from deconvnet.pool_unpool import MaxPooling2D, UndoMaxPooling2D\n",
    "from deconvnet.forward_backward import truncated_model, backward_network"
   ]
  },
  {
   "cell_type": "code",
   "execution_count": 12,
   "metadata": {},
   "outputs": [],
   "source": [
    "(x_train, y_train0), (x_test, y_test0) = cifar10.load_data()\n",
    "y_train = np_utils.to_categorical(y_train0)\n",
    "y_test = np_utils.to_categorical(y_test0)"
   ]
  },
  {
   "cell_type": "code",
   "execution_count": 8,
   "metadata": {},
   "outputs": [],
   "source": [
    "x_train = x_train[:,:,:,None]\n",
    "x_test = x_test[:,:,:,None]"
   ]
  },
  {
   "cell_type": "code",
   "execution_count": 13,
   "metadata": {},
   "outputs": [],
   "source": [
    "# For CIFAR-10\n",
    "model = Sequential()\n",
    "model.add(Conv2D(filters=16, kernel_size=5, input_shape=(32, 32, 3), activation=\"relu\"))\n",
    "model.add(KMaxPooling2D(pool_size=2, strides=2))\n",
    "model.add(Conv2D(filters=128, kernel_size=5, activation=\"relu\"))\n",
    "model.add(KMaxPooling2D(pool_size=2, strides=2))\n",
    "model.add(Flatten())\n",
    "model.add(Dense(64, activation=\"tanh\"))\n",
    "model.add(Dense(10, activation=\"softmax\"))"
   ]
  },
  {
   "cell_type": "code",
   "execution_count": null,
   "metadata": {},
   "outputs": [],
   "source": [
    "del model"
   ]
  },
  {
   "cell_type": "code",
   "execution_count": 14,
   "metadata": {},
   "outputs": [],
   "source": [
    "opt = SGD(lr=0.001)\n",
    "model.compile(loss=\"categorical_crossentropy\", optimizer=opt, metrics=[\"accuracy\"])"
   ]
  },
  {
   "cell_type": "code",
   "execution_count": 17,
   "metadata": {},
   "outputs": [
    {
     "name": "stdout",
     "output_type": "stream",
     "text": [
      "Train on 50000 samples, validate on 10000 samples\n",
      "Epoch 1/20\n",
      "50000/50000 [==============================] - 13s 264us/step - loss: 0.8826 - acc: 0.6984 - val_loss: 1.1309 - val_acc: 0.6068\n",
      "Epoch 2/20\n",
      "50000/50000 [==============================] - 14s 271us/step - loss: 0.8638 - acc: 0.7065 - val_loss: 1.1394 - val_acc: 0.6052\n",
      "Epoch 3/20\n",
      "50000/50000 [==============================] - 13s 266us/step - loss: 0.8496 - acc: 0.7128 - val_loss: 1.1752 - val_acc: 0.5924\n",
      "Epoch 4/20\n",
      "50000/50000 [==============================] - 13s 259us/step - loss: 0.8366 - acc: 0.7165 - val_loss: 1.2610 - val_acc: 0.5648\n",
      "Epoch 5/20\n",
      "50000/50000 [==============================] - 13s 264us/step - loss: 0.8201 - acc: 0.7225 - val_loss: 1.1246 - val_acc: 0.6081\n",
      "Epoch 6/20\n",
      "50000/50000 [==============================] - 14s 270us/step - loss: 0.8052 - acc: 0.7274 - val_loss: 1.1187 - val_acc: 0.6101\n",
      "Epoch 7/20\n",
      "50000/50000 [==============================] - 14s 272us/step - loss: 0.7911 - acc: 0.7320 - val_loss: 1.1383 - val_acc: 0.6051\n",
      "Epoch 8/20\n",
      "50000/50000 [==============================] - 14s 274us/step - loss: 0.7791 - acc: 0.7394 - val_loss: 1.1337 - val_acc: 0.6111\n",
      "Epoch 9/20\n",
      "50000/50000 [==============================] - 14s 273us/step - loss: 0.7696 - acc: 0.7435 - val_loss: 1.1100 - val_acc: 0.6121\n",
      "Epoch 10/20\n",
      "50000/50000 [==============================] - 14s 273us/step - loss: 0.7517 - acc: 0.7486 - val_loss: 1.1966 - val_acc: 0.5862\n",
      "Epoch 11/20\n",
      "50000/50000 [==============================] - 14s 275us/step - loss: 0.7421 - acc: 0.7513 - val_loss: 1.1451 - val_acc: 0.6087\n",
      "Epoch 12/20\n",
      "50000/50000 [==============================] - 15s 296us/step - loss: 0.7273 - acc: 0.7582 - val_loss: 1.1783 - val_acc: 0.5957\n",
      "Epoch 13/20\n",
      "50000/50000 [==============================] - 30s 599us/step - loss: 0.7166 - acc: 0.7622 - val_loss: 1.1417 - val_acc: 0.6122\n",
      "Epoch 14/20\n",
      "50000/50000 [==============================] - 79s 2ms/step - loss: 0.7049 - acc: 0.7663 - val_loss: 1.1063 - val_acc: 0.6212\n",
      "Epoch 15/20\n",
      "50000/50000 [==============================] - 75s 2ms/step - loss: 0.6890 - acc: 0.7737 - val_loss: 1.1188 - val_acc: 0.6173\n",
      "Epoch 16/20\n",
      "50000/50000 [==============================] - 37s 737us/step - loss: 0.6779 - acc: 0.7762 - val_loss: 1.0977 - val_acc: 0.6251\n",
      "Epoch 17/20\n",
      "50000/50000 [==============================] - 15s 292us/step - loss: 0.6661 - acc: 0.7810 - val_loss: 1.1003 - val_acc: 0.6245\n",
      "Epoch 18/20\n",
      "50000/50000 [==============================] - 12s 237us/step - loss: 0.6543 - acc: 0.7870 - val_loss: 1.0994 - val_acc: 0.6228\n",
      "Epoch 19/20\n",
      "50000/50000 [==============================] - 11s 229us/step - loss: 0.6414 - acc: 0.7913 - val_loss: 1.1069 - val_acc: 0.6223\n",
      "Epoch 20/20\n",
      "50000/50000 [==============================] - 12s 233us/step - loss: 0.6347 - acc: 0.7923 - val_loss: 1.1158 - val_acc: 0.6222\n"
     ]
    },
    {
     "data": {
      "text/plain": [
       "<keras.callbacks.History at 0x7f05dcfc92e8>"
      ]
     },
     "execution_count": 17,
     "metadata": {},
     "output_type": "execute_result"
    }
   ],
   "source": [
    "model.fit(x_train, y_train, batch_size=64, epochs=20, validation_data=(x_test, y_test))"
   ]
  },
  {
   "cell_type": "code",
   "execution_count": 19,
   "metadata": {},
   "outputs": [
    {
     "name": "stdout",
     "output_type": "stream",
     "text": [
      "10000/10000 [==============================] - 1s 114us/step\n"
     ]
    },
    {
     "data": {
      "text/plain": [
       "[1.115808279323578, 0.6222]"
      ]
     },
     "execution_count": 19,
     "metadata": {},
     "output_type": "execute_result"
    }
   ],
   "source": [
    "model.evaluate(x_test, y_test)"
   ]
  },
  {
   "cell_type": "code",
   "execution_count": 20,
   "metadata": {},
   "outputs": [
    {
     "name": "stdout",
     "output_type": "stream",
     "text": [
      "_________________________________________________________________\n",
      "Layer (type)                 Output Shape              Param #   \n",
      "=================================================================\n",
      "conv2d_3 (Conv2D)            (None, 28, 28, 16)        1216      \n",
      "_________________________________________________________________\n",
      "max_pooling2d_3 (MaxPooling2 (None, 14, 14, 16)        0         \n",
      "_________________________________________________________________\n",
      "conv2d_4 (Conv2D)            (None, 10, 10, 128)       51328     \n",
      "_________________________________________________________________\n",
      "max_pooling2d_4 (MaxPooling2 (None, 5, 5, 128)         0         \n",
      "_________________________________________________________________\n",
      "flatten_2 (Flatten)          (None, 3200)              0         \n",
      "_________________________________________________________________\n",
      "dense_3 (Dense)              (None, 64)                204864    \n",
      "_________________________________________________________________\n",
      "dense_4 (Dense)              (None, 10)                650       \n",
      "=================================================================\n",
      "Total params: 258,058\n",
      "Trainable params: 258,058\n",
      "Non-trainable params: 0\n",
      "_________________________________________________________________\n"
     ]
    }
   ],
   "source": [
    "model.summary()"
   ]
  },
  {
   "cell_type": "code",
   "execution_count": 80,
   "metadata": {},
   "outputs": [],
   "source": [
    "trunc_net = truncated_model(model, \"max_pooling2d_4\")\n",
    "backward_net = backward_network(trunc_net)"
   ]
  },
  {
   "cell_type": "code",
   "execution_count": 53,
   "metadata": {},
   "outputs": [],
   "source": [
    "x_train_trunc_predict = trunc_net.predict(x_train)\n",
    "x_train_trunc_predict[0].shape"
   ]
  },
  {
   "cell_type": "code",
   "execution_count": 46,
   "metadata": {},
   "outputs": [],
   "source": [
    "max_prediction = x_train_trunc_predict[0].max(axis=(1,2))\n",
    "max_prediction = max_prediction.max(axis=1)\n",
    "max_prediction.argsort()[-5:]"
   ]
  },
  {
   "cell_type": "code",
   "execution_count": null,
   "metadata": {},
   "outputs": [],
   "source": [
    "idx = [13174, 25616, 43490, 16369, 48141]"
   ]
  },
  {
   "cell_type": "code",
   "execution_count": 81,
   "metadata": {},
   "outputs": [],
   "source": [
    "fwd_out = trunc_net.predict(x_train[[43490]])\n",
    "_, _, _, filters = fwd_out[0].shape\n",
    "f0 = fwd_out[0]"
   ]
  },
  {
   "cell_type": "code",
   "execution_count": 82,
   "metadata": {},
   "outputs": [
    {
     "data": {
      "text/plain": [
       "array([121, 100,  94,  54])"
      ]
     },
     "execution_count": 82,
     "metadata": {},
     "output_type": "execute_result"
    }
   ],
   "source": [
    "fwd_out[0][0,:,:,].max(axis=(0,1)).argsort()[:-5:-1]"
   ]
  },
  {
   "cell_type": "code",
   "execution_count": 78,
   "metadata": {},
   "outputs": [
    {
     "data": {
      "text/plain": [
       "<matplotlib.image.AxesImage at 0x7f059c8d9898>"
      ]
     },
     "execution_count": 78,
     "metadata": {},
     "output_type": "execute_result"
    },
    {
     "data": {
      "image/png": "[encoded data removed]",
      "text/plain": [
       "<Figure size 432x288 with 1 Axes>"
      ]
     },
     "metadata": {
      "needs_background": "light"
     },
     "output_type": "display_data"
    }
   ],
   "source": [
    "plt.imshow(x_train[43490])"
   ]
  },
  {
   "cell_type": "code",
   "execution_count": 84,
   "metadata": {},
   "outputs": [
    {
     "data": {
      "image/png": "[encoded data removed]",
      "text/plain": [
       "<Figure size 360x360 with 4 Axes>"
      ]
     },
     "metadata": {
      "needs_background": "light"
     },
     "output_type": "display_data"
    }
   ],
   "source": [
    "# Interesting filters : i = 70 for ears, 214 for mustache, 286 for face, 349 for ears again\n",
    "plt.figure(figsize=(5,5))\n",
    "for j, i in enumerate([121, 100,  94,  54]):\n",
    "    f = f0.copy()\n",
    "    fwd_out[0] = f\n",
    "    fwd_out[0][:, :, :, np.arange(filters) != i] = 0\n",
    "    backward_output = backward_net.predict(fwd_out)\n",
    "    img = backward_output[0]/backward_output[0].max()\n",
    "    plt.subplot(2,2,j+1)\n",
    "    plt.axis(\"off\")\n",
    "    plt.imshow(img[:,:], cmap=\"gray\")\n",
    "plt.show()"
   ]
  }
 ],
 "metadata": {
  "kernelspec": {
   "display_name": "Python 3",
   "language": "python",
   "name": "python3"
  },
  "language_info": {
   "codemirror_mode": {
    "name": "ipython",
    "version": 3
   },
   "file_extension": ".py",
   "mimetype": "text/x-python",
   "name": "python",
   "nbconvert_exporter": "python",
   "pygments_lexer": "ipython3",
   "version": "3.6.7"
  }
 },
 "nbformat": 4,
 "nbformat_minor": 2
}
